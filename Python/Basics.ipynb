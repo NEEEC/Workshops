{
 "cells": [
  {
   "cell_type": "markdown",
   "metadata": {},
   "source": [
    "Some useful resources\n",
    "\n",
    "https://www.programiz.com/python-programming/\n",
    "\n",
    "https://www.tutorialspoint.com/python\n",
    "\n",
    "https://stackoverflow.com\n",
    "\n",
    "https://docs.python.org/3.6/\n",
    "\n",
    "https://docs.python.org/3.6/contents.html\n",
    "\n",
    "sololearn (mobile app)\n",
    "\n",
    "https://docs.python-guide.org/writing/structure/"
   ]
  },
  {
   "cell_type": "markdown",
   "metadata": {},
   "source": [
    "Python is a high-level, general purpose, case-sensitive language.\n",
    "Python has been in almost all areas of computing, such as Machine Learning, Web Development, Workspace Automation, Networking, and such.\n",
    "Python, unlike the language ( C ) which it is built upon, is interpreted instead of compiled.\n",
    "This means that instead of having to “translate” the whole programm into assembly through a compiler, Python is converted line by line, with each subsequent line being run before the next one is translated."
   ]
  },
  {
   "cell_type": "markdown",
   "metadata": {},
   "source": [
    "We will be using Python3\n",
    "\n",
    "As is custom, let's start by outputting \"hello world!\" to a console!\n",
    "In Python, most of the time, you wil be using the print function to output text:"
   ]
  },
  {
   "cell_type": "code",
   "execution_count": 1,
   "metadata": {},
   "outputs": [
    {
     "name": "stdout",
     "output_type": "stream",
     "text": [
      "Hello World\n"
     ]
    }
   ],
   "source": [
    "print(\"Hello World\")"
   ]
  },
  {
   "cell_type": "markdown",
   "metadata": {},
   "source": [
    "Basic arithmetic Operations\n",
    "Like in many languages, Python supports multiple operations, the most basic being sum (+), subtraction (-), multiplication (*), division (/), elevating to the power of X (**X), X being any number, quotient/floor division (//), the division remainder (%).\n",
    "\t\t\t\t\t\t\t\n",
    "Use parentheses to determine which operations are performed first.\n",
    "\n",
    "In Python, ++ and -- do not exist, but one can still use +=, -= , /=, *=, etc.."
   ]
  },
  {
   "cell_type": "code",
   "execution_count": 2,
   "metadata": {},
   "outputs": [
    {
     "name": "stdout",
     "output_type": "stream",
     "text": [
      "4\n",
      "8\n",
      "0.6\n",
      "0\n",
      "1\n"
     ]
    }
   ],
   "source": [
    "print(2*2)\n",
    "print(2**3)\n",
    "print(3/5)\n",
    "print(1//3)\n",
    "print(1%3)"
   ]
  },
  {
   "cell_type": "markdown",
   "metadata": {},
   "source": [
    "### Numbers in Python "
   ]
  },
  {
   "cell_type": "markdown",
   "metadata": {},
   "source": [
    "Numbers in Python can be integers, floats or complex.\n",
    "Python handles conversion between numbers, when applying numerical or logical operations.\n",
    "For example, dividing two integers can originate a float number."
   ]
  },
  {
   "cell_type": "code",
   "execution_count": 9,
   "metadata": {},
   "outputs": [
    {
     "name": "stdout",
     "output_type": "stream",
     "text": [
      "35\n",
      "<class 'int'>\n",
      "35\n",
      "<class 'int'>\n",
      "35\n",
      "<class 'int'>\n",
      "35\n",
      "<class 'int'>\n",
      "35.0\n",
      "<class 'float'>\n",
      "(35+0j)\n",
      "<class 'complex'>\n",
      "0.0\n",
      "35.0\n"
     ]
    }
   ],
   "source": [
    "A = 35\n",
    "print(A)\n",
    "print(type(A))\n",
    "A = 0x23\n",
    "print(A)\n",
    "print(type(A))\n",
    "A = 0o43\n",
    "print(A)\n",
    "print(type(A))\n",
    "A = 0b100011\n",
    "print(A)\n",
    "print(type(A))\n",
    "A = 35.0\n",
    "print(A)\n",
    "print(type(A))\n",
    "A = 35 + 0j\n",
    "print(A)\n",
    "print(type(A))\n",
    "print(A.imag)\n",
    "print(A.real)"
   ]
  },
  {
   "cell_type": "markdown",
   "metadata": {},
   "source": [
    "Comments\n",
    "In Python, \"there are only 1 line comments\", that start with #\n",
    "One can achieve a multi-line comment, by openning a string with \"\"\" and not using it (this is called a docstring)"
   ]
  },
  {
   "cell_type": "code",
   "execution_count": 21,
   "metadata": {},
   "outputs": [
    {
     "data": {
      "text/plain": [
       "'\\nThis is a multi\\nline comment\\n'"
      ]
     },
     "execution_count": 21,
     "metadata": {},
     "output_type": "execute_result"
    }
   ],
   "source": [
    "#This is a comment\n",
    "\"\"\"\n",
    "This is a multi\n",
    "line comment\n",
    "\"\"\""
   ]
  },
  {
   "cell_type": "markdown",
   "metadata": {},
   "source": [
    "### Strings in Python"
   ]
  },
  {
   "cell_type": "markdown",
   "metadata": {},
   "source": [
    "If you want to use/manipulate text in Python, you will have to use a string.\n",
    "Python supports single ('), double(\") and triple (\"\"\") quotes as string delimeters.\n",
    "Triplequotes allow for multi-line strings without the need to use the newlin character (\\n)\t\t\t\t\t\t\t\n",
    "Some characters can't, by definition, be used directly inside a string, because code-wise they represent something other than the character itself (for example if you want to print \" inside a string delimited by \", the string will end there).\n",
    "One must escape these characters with \\"
   ]
  },
  {
   "cell_type": "code",
   "execution_count": 4,
   "metadata": {},
   "outputs": [
    {
     "name": "stdout",
     "output_type": "stream",
     "text": [
      "And then i asked him \"how are you doing\"?\n"
     ]
    }
   ],
   "source": [
    "print(\"And then i asked him \\\"how are you doing\\\"?\")"
   ]
  },
  {
   "cell_type": "markdown",
   "metadata": {},
   "source": [
    "Basic Input and Output\n",
    "    Output\n",
    "As we saw before, print is the default choise for printing text to th console. Further ahead we will see how to use this function to ouput to other contexts and streams.\n",
    "    Input\n",
    "To get console input, use the input(\"Put some text here\") function.\n",
    "This function will output the inner string, wait for a string input and return it."
   ]
  },
  {
   "cell_type": "code",
   "execution_count": 13,
   "metadata": {},
   "outputs": [
    {
     "name": "stdout",
     "output_type": "stream",
     "text": [
      "2+2 = 4\n",
      "Great\n"
     ]
    }
   ],
   "source": [
    "Answer = input(\"2+2 = \")\n",
    "if Answer != \"4\":\n",
    "    print(\"--'\")\n",
    "else:\n",
    "    print(\"Great\")"
   ]
  },
  {
   "cell_type": "markdown",
   "metadata": {},
   "source": [
    "### String Operations"
   ]
  },
  {
   "cell_type": "markdown",
   "metadata": {},
   "source": [
    "Python makes working with strings a breeze.\n",
    "In order to concatenate (glue) two or more strings together, one only needs to use the concatenation operator (+)."
   ]
  },
  {
   "cell_type": "code",
   "execution_count": 16,
   "metadata": {
    "scrolled": false
   },
   "outputs": [
    {
     "name": "stdout",
     "output_type": "stream",
     "text": [
      "Hi, how are you\n"
     ]
    }
   ],
   "source": [
    "print(\"Hi\"+\", \"+\"how\"+\" are you\")"
   ]
  },
  {
   "cell_type": "markdown",
   "metadata": {},
   "source": [
    "You can also repeat strings with the * operator"
   ]
  },
  {
   "cell_type": "code",
   "execution_count": 17,
   "metadata": {},
   "outputs": [
    {
     "name": "stdout",
     "output_type": "stream",
     "text": [
      " :D  :D  :D  :D  :D \n"
     ]
    }
   ],
   "source": [
    "print(\" :D \"*5)"
   ]
  },
  {
   "cell_type": "markdown",
   "metadata": {},
   "source": [
    "You can't concatenate a number and a string.\n",
    "Which leads us to the next topic."
   ]
  },
  {
   "cell_type": "markdown",
   "metadata": {},
   "source": [
    "### Type conversion"
   ]
  },
  {
   "cell_type": "markdown",
   "metadata": {},
   "source": [
    "Even though python automatically converts between number types, there are a lot of times where Python does not convert due to not being sure that's what it's supposed to do.\n",
    "There are several type conversion functions that take in a variable and return the equivalent, in another data type format:\n",
    "\n",
    "bool()\n",
    "\n",
    "int()\n",
    "\n",
    "float()\n",
    "\n",
    "complex()\n",
    "\n",
    "str()"
   ]
  },
  {
   "cell_type": "markdown",
   "metadata": {},
   "source": [
    "We can use the str(variable) function to convert a variable to a string, which we can then concatenate."
   ]
  },
  {
   "cell_type": "code",
   "execution_count": 20,
   "metadata": {},
   "outputs": [
    {
     "name": "stdout",
     "output_type": "stream",
     "text": [
      "I have 5 types of barbeque sauce\n"
     ]
    }
   ],
   "source": [
    "print(\"I have \"+str(5)+\" types of barbeque sauce\")"
   ]
  },
  {
   "cell_type": "markdown",
   "metadata": {},
   "source": [
    "### Variables in Python"
   ]
  },
  {
   "cell_type": "markdown",
   "metadata": {},
   "source": [
    "Unlike with most languages, pythons’ variables do not require initialization with a specified data type and can be reassigned as many times as needed.\n",
    "Pythons' variables' follow the standard rules.\n",
    "No special characters apart from '_'\n",
    "Can't start with a number\n",
    "\n",
    "You can use the del statement to remove a variable. Using the variable after that will raise an error."
   ]
  },
  {
   "cell_type": "code",
   "execution_count": 22,
   "metadata": {},
   "outputs": [
    {
     "ename": "NameError",
     "evalue": "name 'var1' is not defined",
     "output_type": "error",
     "traceback": [
      "\u001b[0;31m---------------------------------------------------------------------------\u001b[0m",
      "\u001b[0;31mNameError\u001b[0m                                 Traceback (most recent call last)",
      "\u001b[0;32m<ipython-input-22-783ea16ee86a>\u001b[0m in \u001b[0;36m<module>\u001b[0;34m()\u001b[0m\n\u001b[1;32m      1\u001b[0m \u001b[0mvar1\u001b[0m \u001b[0;34m=\u001b[0m \u001b[0;36m1\u001b[0m\u001b[0;34m\u001b[0m\u001b[0m\n\u001b[1;32m      2\u001b[0m \u001b[0;32mdel\u001b[0m \u001b[0mvar1\u001b[0m\u001b[0;34m\u001b[0m\u001b[0m\n\u001b[0;32m----> 3\u001b[0;31m \u001b[0mprint\u001b[0m\u001b[0;34m(\u001b[0m\u001b[0mstr\u001b[0m\u001b[0;34m(\u001b[0m\u001b[0mvar1\u001b[0m\u001b[0;34m)\u001b[0m\u001b[0;34m)\u001b[0m\u001b[0;34m\u001b[0m\u001b[0m\n\u001b[0m",
      "\u001b[0;31mNameError\u001b[0m: name 'var1' is not defined"
     ]
    }
   ],
   "source": [
    "var1 = 1\n",
    "del var1\n",
    "print(str(var1))"
   ]
  },
  {
   "cell_type": "markdown",
   "metadata": {},
   "source": [
    "It is also possible to assign more than one variable at once"
   ]
  },
  {
   "cell_type": "code",
   "execution_count": 23,
   "metadata": {},
   "outputs": [],
   "source": [
    "var1 = var2 = var3 = 3"
   ]
  },
  {
   "cell_type": "markdown",
   "metadata": {},
   "source": [
    "### Logic operations"
   ]
  },
  {
   "cell_type": "markdown",
   "metadata": {},
   "source": [
    "Until now, we haven't talked about the boolean data type.\n",
    "A boolean can be either True or False.\n",
    "When converting, it is often assumed that everything that is not 0 is True.\n",
    "It is possible to compare almost any value, but Python is extremely smart about that.\n",
    "There are several logic operations:\n",
    "== and != work for Strings and Numbers, interchangeably\n",
    "<, >, <=, >=\tonly work inbetween Numbers and Strings"
   ]
  },
  {
   "cell_type": "code",
   "execution_count": 24,
   "metadata": {},
   "outputs": [
    {
     "ename": "TypeError",
     "evalue": "'>' not supported between instances of 'str' and 'int'",
     "output_type": "error",
     "traceback": [
      "\u001b[0;31m---------------------------------------------------------------------------\u001b[0m",
      "\u001b[0;31mTypeError\u001b[0m                                 Traceback (most recent call last)",
      "\u001b[0;32m<ipython-input-24-f3dc15bfbad8>\u001b[0m in \u001b[0;36m<module>\u001b[0;34m()\u001b[0m\n\u001b[1;32m      2\u001b[0m \u001b[0;36m2\u001b[0m \u001b[0;34m<\u001b[0m \u001b[0;36m1\u001b[0m\u001b[0;34m\u001b[0m\u001b[0m\n\u001b[1;32m      3\u001b[0m \u001b[0;34m\"1\"\u001b[0m\u001b[0;34m==\u001b[0m\u001b[0;36m1\u001b[0m\u001b[0;34m\u001b[0m\u001b[0m\n\u001b[0;32m----> 4\u001b[0;31m \u001b[0;34m\"2\"\u001b[0m\u001b[0;34m>\u001b[0m\u001b[0;36m1\u001b[0m\u001b[0;34m\u001b[0m\u001b[0m\n\u001b[0m",
      "\u001b[0;31mTypeError\u001b[0m: '>' not supported between instances of 'str' and 'int'"
     ]
    }
   ],
   "source": [
    "\"abc\" < \"abd\"    #\"Higher Alphabetic order\"\n",
    "2 < 1\n",
    "\"1\"==1           # == can be used with almost all data types (doesn't mean it should)\n",
    "\"2\">1\n",
    "\n",
    "6 > 4 > 2        #It's possible to do chained comparisons"
   ]
  },
  {
   "cell_type": "markdown",
   "metadata": {},
   "source": [
    "### Control structures"
   ]
  },
  {
   "cell_type": "markdown",
   "metadata": {},
   "source": [
    "\t\t\t\t\t\t\n",
    "Unlike many languages, in Python instead of using curly brackets ({}) to delimit a code \"block\" or structure, : is used to start the block and the indentation is used to know which part of the code is within which block.\n",
    "\n",
    "Control structures - If else statements\n",
    "if statements work just like in any language with the exception that instead of else if, we must use elif."
   ]
  },
  {
   "cell_type": "code",
   "execution_count": 25,
   "metadata": {},
   "outputs": [
    {
     "name": "stdout",
     "output_type": "stream",
     "text": [
      "There we go\n"
     ]
    }
   ],
   "source": [
    "if 2==4:\n",
    "    print(\"what?\")\n",
    "elif 2==3:\n",
    "    print(\"Keep going..\")\n",
    "else:\n",
    "    print(\"There we go\")"
   ]
  },
  {
   "cell_type": "markdown",
   "metadata": {},
   "source": [
    "### Boolean Logic"
   ]
  },
  {
   "cell_type": "markdown",
   "metadata": {},
   "source": [
    "Building more complicated conditions.\n",
    "Instead of the traditional !, && and or, we use 'not', 'and' and 'or'"
   ]
  },
  {
   "cell_type": "code",
   "execution_count": 14,
   "metadata": {},
   "outputs": [
    {
     "name": "stdout",
     "output_type": "stream",
     "text": [
      "False\n",
      "True\n",
      "True\n"
     ]
    }
   ],
   "source": [
    "print(1==1 and 2==3)\n",
    "print(1==5 or 2==2)\n",
    "print(not 2==4)"
   ]
  },
  {
   "cell_type": "markdown",
   "metadata": {},
   "source": [
    "Control structures - while loops\n",
    "A while loop, along with the continue and break statements, works the same in Python as everywhere else.\n",
    "While the condition holds true, the inner code will run."
   ]
  },
  {
   "cell_type": "code",
   "execution_count": 27,
   "metadata": {},
   "outputs": [],
   "source": [
    "x=1\n",
    "while x != 100:\n",
    "    x+=1"
   ]
  },
  {
   "cell_type": "markdown",
   "metadata": {},
   "source": [
    "### Lists and Tuples"
   ]
  },
  {
   "cell_type": "markdown",
   "metadata": {},
   "source": [
    "Lists are similar to arrays, but can contain variables of different types.\n",
    "Tuples are lists that once initialized, cannot be changed (they are immutable)\n",
    "Concatenation (+), repetition (*), element selection ([]), splicing ([start:stop]), splicing with defined interval/step ([start:stop:step])."
   ]
  },
  {
   "cell_type": "code",
   "execution_count": 28,
   "metadata": {
    "scrolled": true
   },
   "outputs": [
    {
     "name": "stdout",
     "output_type": "stream",
     "text": [
      "[1, 2, 3, 4, 5, 6, 7, 8, 9]\n",
      "[0, 1, 2, 3, 4]\n",
      "[1, 3, 5, 7, 9]\n",
      "['hey', 3, 5, 7, 9]\n"
     ]
    }
   ],
   "source": [
    "#Like arrays, lists can be created empty.\n",
    "VarList = []\n",
    "VarList = list()\n",
    "\n",
    "#Or initialized\n",
    "VarList = [1,2,3,4,5,6,7,8,9]\n",
    "print(VarList)\n",
    "VarList3 = [x for x in range(5)]\n",
    "print(VarList3)\n",
    "#Lists can also be “sliced” and accessed\n",
    "VarList2 = VarList[::2]\n",
    "print(VarList2)\n",
    "VarList2[0] = \"hey\"\n",
    "print(VarList2)\n",
    "#Lists have the same operators as strings.\n",
    "[1,2,3]+[4,5,6]\n",
    "[1,2]*3\n",
    "\n",
    "#And can also contain other lists\n",
    "VarList2 = [0, [0,1], 1]\t#This list has 3 items, one of which is a 2 item list"
   ]
  },
  {
   "cell_type": "markdown",
   "metadata": {},
   "source": [
    "The operator 'in' allows us to effortlessly check if an item exists in a list"
   ]
  },
  {
   "cell_type": "code",
   "execution_count": 29,
   "metadata": {},
   "outputs": [
    {
     "name": "stdout",
     "output_type": "stream",
     "text": [
      "True\n",
      "True\n"
     ]
    }
   ],
   "source": [
    "print(1 in [2,3,4,1])\n",
    "print(3 not in [2,4,5])"
   ]
  },
  {
   "cell_type": "markdown",
   "metadata": {},
   "source": [
    "### Built-in list and tuple functions"
   ]
  },
  {
   "cell_type": "markdown",
   "metadata": {},
   "source": [
    "cmp(list1, list2) \n",
    "Compares elements of both lists.\n",
    "\n",
    "len(list) \n",
    "Gives the total length of the list.\n",
    "\n",
    "max(list) \n",
    "Returns item from the list with max value.\n",
    "\n",
    "min(list) \n",
    "Returns item from the list with min value.\n",
    "\n",
    "list(seq) \n",
    "Converts a tuple into list."
   ]
  },
  {
   "cell_type": "markdown",
   "metadata": {},
   "source": [
    "### Python list methods\n",
    "\n",
    "Further ahead we will explain more in detail what a method is. For now, just think of methods as \"internal functions\""
   ]
  },
  {
   "cell_type": "markdown",
   "metadata": {},
   "source": [
    "list.append(obj) \n",
    "Appends object obj to list\n",
    "\n",
    "list.count(obj) \n",
    "Returns count of how many times obj occurs in list\n",
    "\n",
    "list.extend(seq) \n",
    "Appends the contents of seq to list\n",
    "\n",
    "list.index(obj) \n",
    "Returns the lowest index in list that obj appears\n",
    "\n",
    "list.insert(index, obj) \n",
    "Inserts object obj into list at offset index\n",
    "\n",
    "list.pop(obj=list[-1]) \n",
    "Removes and returns last object or obj from list\n",
    "\n",
    "list.remove(obj) \n",
    "Removes object obj from list\n",
    "\n",
    "list.reverse() \n",
    "Reverses objects of list in place\n",
    "\n",
    "list.sort([func]) \n",
    "Sorts objects of list, use compare func if given"
   ]
  },
  {
   "cell_type": "markdown",
   "metadata": {},
   "source": [
    "range(EndNumber)\n",
    "range(StartNumber, EndNumber)\n",
    "range(StartNumber, EndNumber, Step)"
   ]
  },
  {
   "cell_type": "markdown",
   "metadata": {},
   "source": [
    "### Dictionaries"
   ]
  },
  {
   "cell_type": "markdown",
   "metadata": {},
   "source": [
    "Dictionaries are very similar to lists, but instead of having numerical, sequential indexes, they can be any strings or integers. Dictionaries are therefore defined by key-value pairs.\n",
    "One can access a value through its’ respective key\n",
    "(Dictionaries are comparable to hash tables)\n",
    "Appending to a dictionary is easier than to a list. All you need to do is define (or redefine/rewrite) the key-value pair (both of which can be either strings or integers, values can be objects as well)."
   ]
  },
  {
   "cell_type": "code",
   "execution_count": 5,
   "metadata": {},
   "outputs": [
    {
     "name": "stdout",
     "output_type": "stream",
     "text": [
      "{'Name': 'John', 1234: 6734}\n",
      "{'Name': 'Jane', 1234: 6734, 2: 2}\n"
     ]
    }
   ],
   "source": [
    "VarDict = {}\n",
    "VarDict = {'Name': 'John',1234: 6734}\n",
    "\n",
    "print(VarDict)\n",
    "\n",
    "VarDict['Name'] = \"Jane\"\n",
    "VarDict[2] = 2\n",
    "print(VarDict)"
   ]
  },
  {
   "cell_type": "markdown",
   "metadata": {},
   "source": [
    "The objects returned by dict.keys(), dict.values() and dict.items() are view objects. They provide a dynamic view on the dictionary’s entries, which means that when the dictionary changes, the view reflects these changes."
   ]
  },
  {
   "cell_type": "code",
   "execution_count": 8,
   "metadata": {},
   "outputs": [
    {
     "name": "stdout",
     "output_type": "stream",
     "text": [
      "dict_keys(['Name', 1234, 2])\n",
      "dict_items([('Name', 'Jane'), (1234, 6734), (2, 2)])\n"
     ]
    }
   ],
   "source": [
    "print(VarDict.keys())\n",
    "print(VarDict.items())"
   ]
  },
  {
   "cell_type": "markdown",
   "metadata": {},
   "source": [
    "### Built-in Dictionary Functions & Methods"
   ]
  },
  {
   "cell_type": "markdown",
   "metadata": {},
   "source": [
    "cmp(dict1, dict2) \n",
    "Compares elements of both dict.\n",
    "\n",
    "len(dict) \n",
    "Gives the total length of the dictionary. This would be equal to the number of items in the dictionary.\n",
    "\n",
    "str(dict) \n",
    "Produces a printable string representation of a dictionary\n",
    "\n",
    "type(variable) \n",
    "Returns the type of the passed variable. If passed variable is dictionary, then it would return a dictionary type.\n"
   ]
  },
  {
   "cell_type": "markdown",
   "metadata": {},
   "source": [
    "### Python dictionaries methods"
   ]
  },
  {
   "cell_type": "markdown",
   "metadata": {},
   "source": [
    "dict.clear() \n",
    "Removes all elements of dictionary dict\n",
    "\n",
    "dict.copy() \n",
    "Returns a shallow copy of dictionary dict\n",
    "\n",
    "dict.fromkeys() \n",
    "Create a new dictionary with keys from seq and values set to value.\n",
    "\n",
    "dict.get(key, default=None) \n",
    "For key key, returns value or default if key not in dictionary\n",
    "\n",
    "dict.has_key(key) \n",
    "Returns true if key in dictionary dict, false otherwise\n",
    "\n",
    "dict.items() \n",
    "Returns a list of dict's (key, value) tuple pairs\n",
    "\n",
    "dict.keys() \n",
    "Returns list of dictionary dict's keys\n",
    "\n",
    "dict.setdefault(key, default=None) \n",
    "Similar to get(), but will set dict[key]=default if key is not already in dict\n",
    "\n",
    "dict.update(dict2) \n",
    "Adds dictionary dict2's key-values pairs to dict\n",
    "\n",
    "dict.values() \n",
    "Returns list of dictionary dict's values\n"
   ]
  },
  {
   "cell_type": "markdown",
   "metadata": {},
   "source": [
    "### For Loops"
   ]
  },
  {
   "cell_type": "markdown",
   "metadata": {},
   "source": [
    "The range function returns a list containing the numbers from StartNumber (default 0) to EndNumber (no default) step by step (default step is 1)\n",
    "\n",
    "For loops in Python are mostly used to iterate through a list."
   ]
  },
  {
   "cell_type": "code",
   "execution_count": 20,
   "metadata": {},
   "outputs": [
    {
     "name": "stdout",
     "output_type": "stream",
     "text": [
      "hello\n",
      "how\n",
      "are\n",
      "you\n",
      "hello\n",
      "how\n",
      "are\n",
      "you\n"
     ]
    }
   ],
   "source": [
    "SomeList = [\"hello\",\"how\",\"are\",\"you\"]\n",
    "for word in SomeList:\n",
    "    print(word)                   #Accessing the lists' items directly\n",
    "    \n",
    "for index in range(len(SomeList)):\n",
    "    print(SomeList[index])        #Accessing the lists' items through the respective indexes"
   ]
  },
  {
   "cell_type": "markdown",
   "metadata": {},
   "source": [
    "### Functions"
   ]
  },
  {
   "cell_type": "code",
   "execution_count": 31,
   "metadata": {},
   "outputs": [
    {
     "name": "stdout",
     "output_type": "stream",
     "text": [
      "Number1: 1\n",
      "Number2: 4\n",
      "-3\n",
      "1 2\n"
     ]
    }
   ],
   "source": [
    "def Subtraction(Number1,Number2):\n",
    "    print(\"Number1: \"+str(Number1)+\"\\nNumber2: \"+str(Number2))\n",
    "    return Number1-Number2\n",
    "\n",
    "print(Subtraction(1,4))\n",
    "\n",
    "#This function returns 2 values\n",
    "def Function2():\n",
    "    return 1,2\n",
    "\n",
    "a,b = Function2()\n",
    "\n",
    "print(str(a)+\" \"+str(b))"
   ]
  },
  {
   "cell_type": "markdown",
   "metadata": {},
   "source": [
    "Functions can also be used as arguments"
   ]
  },
  {
   "cell_type": "code",
   "execution_count": 32,
   "metadata": {},
   "outputs": [
    {
     "name": "stdout",
     "output_type": "stream",
     "text": [
      "14\n"
     ]
    }
   ],
   "source": [
    "def add(x,y):\n",
    "    return x+y\n",
    "\n",
    "def add_twice(func, x, y):\n",
    "    return func(func(x,y), func(x,y))\n",
    "\n",
    "print(add_twice(add, 2, 5))"
   ]
  },
  {
   "cell_type": "markdown",
   "metadata": {},
   "source": [
    "### Modules\n",
    "In Python, there are modules (libraries) for almost any conceivable task."
   ]
  },
  {
   "cell_type": "code",
   "execution_count": 33,
   "metadata": {},
   "outputs": [
    {
     "name": "stdout",
     "output_type": "stream",
     "text": [
      "3\n",
      "6\n",
      "1\n",
      "1\n",
      "4\n"
     ]
    }
   ],
   "source": [
    "import random\n",
    "for i in range(5):\n",
    "    value = random.randint(1, 6)\n",
    "    print(value)"
   ]
  },
  {
   "cell_type": "markdown",
   "metadata": {},
   "source": [
    "It is also possible to import only certain functions and even import them with aliases"
   ]
  },
  {
   "cell_type": "code",
   "execution_count": 34,
   "metadata": {},
   "outputs": [],
   "source": [
    "from math import pi, ceil\n",
    "from math import sqrt as square_root"
   ]
  },
  {
   "cell_type": "markdown",
   "metadata": {},
   "source": [
    "### Exceptions\n",
    "When an error in Python occurs, an exception is thrown.\n",
    "It is possible to \"catch\" these exceptions without having the programm die on you, and proceeding as necessary."
   ]
  },
  {
   "cell_type": "code",
   "execution_count": 35,
   "metadata": {},
   "outputs": [
    {
     "name": "stdout",
     "output_type": "stream",
     "text": [
      "tried to divide by zero\n"
     ]
    }
   ],
   "source": [
    "try:\n",
    "    print(1/0)\n",
    "except ZeroDivisionError:\n",
    "    print (\"tried to divide by zero\")"
   ]
  },
  {
   "cell_type": "markdown",
   "metadata": {},
   "source": [
    "It is also possible to catch all exceptions"
   ]
  },
  {
   "cell_type": "code",
   "execution_count": 36,
   "metadata": {},
   "outputs": [
    {
     "name": "stdout",
     "output_type": "stream",
     "text": [
      "division by zero\n"
     ]
    }
   ],
   "source": [
    "try:\n",
    "    print(1/0)\n",
    "except Exception as e:\n",
    "    print(str(e))"
   ]
  },
  {
   "cell_type": "markdown",
   "metadata": {},
   "source": [
    "Most of the times, even when an exception is thrown, it is useful to be able to perform some routine checks or data saves.\n",
    "We can use the finally statement to do so. It even works when there is an error in the code inside the except itself!"
   ]
  },
  {
   "cell_type": "code",
   "execution_count": 37,
   "metadata": {},
   "outputs": [
    {
     "name": "stdout",
     "output_type": "stream",
     "text": [
      "Oops\n",
      "We apologize for any inconvenience\n"
     ]
    },
    {
     "ename": "ZeroDivisionError",
     "evalue": "division by zero",
     "output_type": "error",
     "traceback": [
      "\u001b[0;31m---------------------------------------------------------------------------\u001b[0m",
      "\u001b[0;31mZeroDivisionError\u001b[0m                         Traceback (most recent call last)",
      "\u001b[0;32m<ipython-input-37-34b4db5a2d97>\u001b[0m in \u001b[0;36m<module>\u001b[0;34m()\u001b[0m\n\u001b[1;32m      1\u001b[0m \u001b[0;32mtry\u001b[0m\u001b[0;34m:\u001b[0m\u001b[0;34m\u001b[0m\u001b[0m\n\u001b[0;32m----> 2\u001b[0;31m     \u001b[0;32mraise\u001b[0m \u001b[0mZeroDivisionError\u001b[0m    \u001b[0;31m#It is also possible to raise an exception. Custom exceptions are possible\u001b[0m\u001b[0;34m\u001b[0m\u001b[0m\n\u001b[0m\u001b[1;32m      3\u001b[0m \u001b[0;32mexcept\u001b[0m \u001b[0mValueError\u001b[0m\u001b[0;34m:\u001b[0m\u001b[0;34m\u001b[0m\u001b[0m\n",
      "\u001b[0;31mZeroDivisionError\u001b[0m: ",
      "\nDuring handling of the above exception, another exception occurred:\n",
      "\u001b[0;31mZeroDivisionError\u001b[0m                         Traceback (most recent call last)",
      "\u001b[0;32m<ipython-input-37-34b4db5a2d97>\u001b[0m in \u001b[0;36m<module>\u001b[0;34m()\u001b[0m\n\u001b[1;32m      5\u001b[0m \u001b[0;32mexcept\u001b[0m \u001b[0mZeroDivisionError\u001b[0m\u001b[0;34m:\u001b[0m      \u001b[0;31m#Or catch a specific exception\u001b[0m\u001b[0;34m\u001b[0m\u001b[0m\n\u001b[1;32m      6\u001b[0m     \u001b[0mprint\u001b[0m\u001b[0;34m(\u001b[0m\u001b[0;34m\"Oops\"\u001b[0m\u001b[0;34m)\u001b[0m\u001b[0;34m\u001b[0m\u001b[0m\n\u001b[0;32m----> 7\u001b[0;31m     \u001b[0mprint\u001b[0m\u001b[0;34m(\u001b[0m\u001b[0;36m1\u001b[0m\u001b[0;34m/\u001b[0m\u001b[0;36m0\u001b[0m\u001b[0;34m)\u001b[0m\u001b[0;34m\u001b[0m\u001b[0m\n\u001b[0m\u001b[1;32m      8\u001b[0m \u001b[0;32mfinally\u001b[0m\u001b[0;34m:\u001b[0m\u001b[0;34m\u001b[0m\u001b[0m\n\u001b[1;32m      9\u001b[0m     \u001b[0mprint\u001b[0m\u001b[0;34m(\u001b[0m\u001b[0;34m\"We apologize for any inconvenience\"\u001b[0m\u001b[0;34m)\u001b[0m \u001b[0;31m#Will run regardless\u001b[0m\u001b[0;34m\u001b[0m\u001b[0m\n",
      "\u001b[0;31mZeroDivisionError\u001b[0m: division by zero"
     ]
    }
   ],
   "source": [
    "try:\n",
    "    raise ZeroDivisionError    #It is also possible to raise an exception. Custom exceptions are possible\n",
    "except ValueError:\n",
    "    print(\"This one will never trigger\")\n",
    "except ZeroDivisionError:      #Or catch a specific exception\n",
    "    print(\"Oops\")\n",
    "    print(1/0)\n",
    "finally:\n",
    "    print(\"We apologize for any inconvenience\") #Will run regardless of the existence of any exception or error"
   ]
  },
  {
   "cell_type": "markdown",
   "metadata": {},
   "source": [
    "Files\n",
    "File handling in Python is trivial"
   ]
  },
  {
   "cell_type": "code",
   "execution_count": 38,
   "metadata": {},
   "outputs": [
    {
     "name": "stdout",
     "output_type": "stream",
     "text": [
      "Greetings fellow adventurer!\n"
     ]
    }
   ],
   "source": [
    "SomeFile = open(\"filename.txt\",'w')\n",
    "\"\"\"\n",
    "w -> Overwrite file, create new if it doesn't exist\n",
    "a -> Append to file\n",
    "r -> Read from file\n",
    "b -> Added to the end of the last one (r) if you wish to read in binary\n",
    "\"\"\"\n",
    "SomeFile.write(\"Greetings fellow adventurer!\")\n",
    "SomeFile.close()\n",
    "SomeFile = open(\"filename.txt\",'r')\n",
    "print(SomeFile.read())\n",
    "SomeFile.close()"
   ]
  },
  {
   "cell_type": "markdown",
   "metadata": {},
   "source": [
    "### Objects (to be continued)"
   ]
  }
 ],
 "metadata": {
  "kernelspec": {
   "display_name": "Python 3",
   "language": "python",
   "name": "python3"
  },
  "language_info": {
   "codemirror_mode": {
    "name": "ipython",
    "version": 3
   },
   "file_extension": ".py",
   "mimetype": "text/x-python",
   "name": "python",
   "nbconvert_exporter": "python",
   "pygments_lexer": "ipython3",
   "version": "3.6.4"
  }
 },
 "nbformat": 4,
 "nbformat_minor": 2
}
